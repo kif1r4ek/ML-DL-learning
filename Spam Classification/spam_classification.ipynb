{
 "cells": [
  {
   "cell_type": "code",
   "id": "initial_id",
   "metadata": {
    "collapsed": true,
    "ExecuteTime": {
     "end_time": "2025-03-09T03:39:17.179772Z",
     "start_time": "2025-03-09T03:39:16.393518Z"
    }
   },
   "source": "import pandas as pd",
   "outputs": [],
   "execution_count": 1
  },
  {
   "metadata": {
    "ExecuteTime": {
     "end_time": "2025-03-09T03:39:18.240867Z",
     "start_time": "2025-03-09T03:39:17.190433Z"
    }
   },
   "cell_type": "code",
   "source": "data_email = pd.read_csv('data/email_text.csv')",
   "id": "ad398a4b3be4b06c",
   "outputs": [],
   "execution_count": 2
  },
  {
   "metadata": {
    "ExecuteTime": {
     "end_time": "2025-03-09T03:39:18.711858Z",
     "start_time": "2025-03-09T03:39:18.701643Z"
    }
   },
   "cell_type": "code",
   "source": "data_email.head()",
   "id": "48e767747a067b3a",
   "outputs": [
    {
     "data": {
      "text/plain": [
       "   label                                               text\n",
       "0      1  do you feel the pressure to perform and not ri...\n",
       "1      0  hi i've just updated from the gulus and i chec...\n",
       "2      1  mega authenticv i a g r a discount pricec i a ...\n",
       "3      1  hey billy it was really fun going out the othe...\n",
       "4      1  system of the home it will have the capabiliti..."
      ],
      "text/html": [
       "<div>\n",
       "<style scoped>\n",
       "    .dataframe tbody tr th:only-of-type {\n",
       "        vertical-align: middle;\n",
       "    }\n",
       "\n",
       "    .dataframe tbody tr th {\n",
       "        vertical-align: top;\n",
       "    }\n",
       "\n",
       "    .dataframe thead th {\n",
       "        text-align: right;\n",
       "    }\n",
       "</style>\n",
       "<table border=\"1\" class=\"dataframe\">\n",
       "  <thead>\n",
       "    <tr style=\"text-align: right;\">\n",
       "      <th></th>\n",
       "      <th>label</th>\n",
       "      <th>text</th>\n",
       "    </tr>\n",
       "  </thead>\n",
       "  <tbody>\n",
       "    <tr>\n",
       "      <th>0</th>\n",
       "      <td>1</td>\n",
       "      <td>do you feel the pressure to perform and not ri...</td>\n",
       "    </tr>\n",
       "    <tr>\n",
       "      <th>1</th>\n",
       "      <td>0</td>\n",
       "      <td>hi i've just updated from the gulus and i chec...</td>\n",
       "    </tr>\n",
       "    <tr>\n",
       "      <th>2</th>\n",
       "      <td>1</td>\n",
       "      <td>mega authenticv i a g r a discount pricec i a ...</td>\n",
       "    </tr>\n",
       "    <tr>\n",
       "      <th>3</th>\n",
       "      <td>1</td>\n",
       "      <td>hey billy it was really fun going out the othe...</td>\n",
       "    </tr>\n",
       "    <tr>\n",
       "      <th>4</th>\n",
       "      <td>1</td>\n",
       "      <td>system of the home it will have the capabiliti...</td>\n",
       "    </tr>\n",
       "  </tbody>\n",
       "</table>\n",
       "</div>"
      ]
     },
     "execution_count": 3,
     "metadata": {},
     "output_type": "execute_result"
    }
   ],
   "execution_count": 3
  },
  {
   "metadata": {
    "ExecuteTime": {
     "end_time": "2025-03-09T03:39:18.758572Z",
     "start_time": "2025-03-09T03:39:18.737095Z"
    }
   },
   "cell_type": "code",
   "source": "data_email.info()",
   "id": "4ea54bc1f452efbe",
   "outputs": [
    {
     "name": "stdout",
     "output_type": "stream",
     "text": [
      "<class 'pandas.core.frame.DataFrame'>\n",
      "RangeIndex: 53668 entries, 0 to 53667\n",
      "Data columns (total 2 columns):\n",
      " #   Column  Non-Null Count  Dtype \n",
      "---  ------  --------------  ----- \n",
      " 0   label   53668 non-null  int64 \n",
      " 1   text    53668 non-null  object\n",
      "dtypes: int64(1), object(1)\n",
      "memory usage: 838.7+ KB\n"
     ]
    }
   ],
   "execution_count": 4
  },
  {
   "metadata": {
    "ExecuteTime": {
     "end_time": "2025-03-09T04:24:36.012191Z",
     "start_time": "2025-03-09T04:24:18.260297Z"
    }
   },
   "cell_type": "code",
   "source": [
    "import re\n",
    "\n",
    "TAG_RE = re.compile(r'<[^>]+>')\n",
    "URL_RE = re.compile(r'(?:http|ftp|https)://(?:[\\w_-]+(?:(?:\\.[\\w_-]+)+))(?:[\\w.,@?^=%&:/~+#-]*[\\w@?^=%&/~+#-])?')\n",
    "TEXT_RE = re.compile(r'(?:[a-z0-9!#$%&\\'*+/=?^_`{|}~-]+(?:\\.[a-z0-9!#$%&\\'*+/=?^_`{|}~-]+)*|\"(?:[\\x01-\\x08\\x0b\\x0c\\x0e-\\x1f\\x21\\x23-\\x5b\\x5d-\\x7f]|\\\\[\\x01-\\x09\\x0b\\x0c\\x0e-\\x7f])*\")@(?:(?:[a-z0-9](?:[a-z0-9-]*[a-z0-9])?\\.)+[a-z0-9](?:[a-z0-9-]*[a-z0-9])?|\\[(?:(?:(2(5[0-5]|[0-4][0-9])|1[0-9][0-9]|[1-9]?[0-9]))\\.){3}(?:(2(5[0-5]|[0-4][0-9])|1[0-9][0-9]|[1-9]?[0-9])|[a-z0-9-]*[a-z0-9]:(?:[\\x01-\\x08\\x0b\\x0c\\x0e-\\x1f\\x21-\\x5a\\x53-\\x7f]|\\\\[\\x01-\\x09\\x0b\\x0c\\x0e-\\x7f])+)\\])')\n",
    "\n",
    "def clean_data(text):\n",
    "    text = text.lower().strip()\n",
    "    text = TAG_RE.sub('', text)\n",
    "    text = URL_RE.sub('', text)\n",
    "    text = TEXT_RE.sub('', text)\n",
    "    return text\n",
    "\n",
    "data_email['text'] = data_email['text'].apply(clean_data)\n"
   ],
   "id": "30d4349fa2d022b4",
   "outputs": [],
   "execution_count": 20
  },
  {
   "metadata": {
    "ExecuteTime": {
     "end_time": "2025-03-09T04:24:38.891694Z",
     "start_time": "2025-03-09T04:24:38.885378Z"
    }
   },
   "cell_type": "code",
   "source": "data_email.head()",
   "id": "c3c810425387e179",
   "outputs": [
    {
     "data": {
      "text/plain": [
       "   label                                               text\n",
       "0      1  do you feel the pressure to perform and not ri...\n",
       "1      0  hi ive just updated from the gulus and i check...\n",
       "2      1  mega authenticv i a g r a discount pricec i a ...\n",
       "3      1  hey billy it was really fun going out the othe...\n",
       "4      1  system of the home it will have the capabiliti..."
      ],
      "text/html": [
       "<div>\n",
       "<style scoped>\n",
       "    .dataframe tbody tr th:only-of-type {\n",
       "        vertical-align: middle;\n",
       "    }\n",
       "\n",
       "    .dataframe tbody tr th {\n",
       "        vertical-align: top;\n",
       "    }\n",
       "\n",
       "    .dataframe thead th {\n",
       "        text-align: right;\n",
       "    }\n",
       "</style>\n",
       "<table border=\"1\" class=\"dataframe\">\n",
       "  <thead>\n",
       "    <tr style=\"text-align: right;\">\n",
       "      <th></th>\n",
       "      <th>label</th>\n",
       "      <th>text</th>\n",
       "    </tr>\n",
       "  </thead>\n",
       "  <tbody>\n",
       "    <tr>\n",
       "      <th>0</th>\n",
       "      <td>1</td>\n",
       "      <td>do you feel the pressure to perform and not ri...</td>\n",
       "    </tr>\n",
       "    <tr>\n",
       "      <th>1</th>\n",
       "      <td>0</td>\n",
       "      <td>hi ive just updated from the gulus and i check...</td>\n",
       "    </tr>\n",
       "    <tr>\n",
       "      <th>2</th>\n",
       "      <td>1</td>\n",
       "      <td>mega authenticv i a g r a discount pricec i a ...</td>\n",
       "    </tr>\n",
       "    <tr>\n",
       "      <th>3</th>\n",
       "      <td>1</td>\n",
       "      <td>hey billy it was really fun going out the othe...</td>\n",
       "    </tr>\n",
       "    <tr>\n",
       "      <th>4</th>\n",
       "      <td>1</td>\n",
       "      <td>system of the home it will have the capabiliti...</td>\n",
       "    </tr>\n",
       "  </tbody>\n",
       "</table>\n",
       "</div>"
      ]
     },
     "execution_count": 21,
     "metadata": {},
     "output_type": "execute_result"
    }
   ],
   "execution_count": 21
  },
  {
   "metadata": {
    "ExecuteTime": {
     "end_time": "2025-03-09T04:24:57.662858Z",
     "start_time": "2025-03-09T04:24:57.460931Z"
    }
   },
   "cell_type": "code",
   "source": [
    "dup = data_email.duplicated().sum()\n",
    "print(f'number of duplicated rows are {dup}')"
   ],
   "id": "8048b6a3a4931a50",
   "outputs": [
    {
     "name": "stdout",
     "output_type": "stream",
     "text": [
      "number of duplicated rows are 46\n"
     ]
    }
   ],
   "execution_count": 22
  },
  {
   "metadata": {
    "ExecuteTime": {
     "end_time": "2025-03-09T04:25:12.030582Z",
     "start_time": "2025-03-09T04:25:11.828397Z"
    }
   },
   "cell_type": "code",
   "source": "data_email = data_email.drop_duplicates()",
   "id": "1f504884720a0018",
   "outputs": [],
   "execution_count": 23
  },
  {
   "metadata": {
    "ExecuteTime": {
     "end_time": "2025-03-09T05:12:02.461789Z",
     "start_time": "2025-03-09T04:25:14.661792Z"
    }
   },
   "cell_type": "code",
   "source": [
    "import spacy\n",
    "\n",
    "nlp = spacy.load(\"en_core_web_sm\")\n",
    "\n",
    "def remove_stopwords(text):\n",
    "    doc = nlp(text)\n",
    "    filtered_text = \" \".join([token.text for token in doc if not token.is_stop])\n",
    "    return filtered_text\n",
    "\n",
    "data_email['text'] = data_email['text'].apply(remove_stopwords)"
   ],
   "id": "c3503a098fcfa1ad",
   "outputs": [],
   "execution_count": 24
  },
  {
   "metadata": {
    "ExecuteTime": {
     "end_time": "2025-03-09T05:12:02.540688Z",
     "start_time": "2025-03-09T05:12:02.533845Z"
    }
   },
   "cell_type": "code",
   "source": "data_email.head()",
   "id": "e5c03426c05d06d5",
   "outputs": [
    {
     "data": {
      "text/plain": [
       "   label                                               text\n",
       "0      1  feel pressure perform rising occasion try v ia...\n",
       "1      0  hi ve updated gulus check mirrors little typo ...\n",
       "2      1  mega authenticv g r discount pricec l s discou...\n",
       "3      1  hey billy fun going night talking said felt in...\n",
       "4      1  system home capabilities linked far know respe..."
      ],
      "text/html": [
       "<div>\n",
       "<style scoped>\n",
       "    .dataframe tbody tr th:only-of-type {\n",
       "        vertical-align: middle;\n",
       "    }\n",
       "\n",
       "    .dataframe tbody tr th {\n",
       "        vertical-align: top;\n",
       "    }\n",
       "\n",
       "    .dataframe thead th {\n",
       "        text-align: right;\n",
       "    }\n",
       "</style>\n",
       "<table border=\"1\" class=\"dataframe\">\n",
       "  <thead>\n",
       "    <tr style=\"text-align: right;\">\n",
       "      <th></th>\n",
       "      <th>label</th>\n",
       "      <th>text</th>\n",
       "    </tr>\n",
       "  </thead>\n",
       "  <tbody>\n",
       "    <tr>\n",
       "      <th>0</th>\n",
       "      <td>1</td>\n",
       "      <td>feel pressure perform rising occasion try v ia...</td>\n",
       "    </tr>\n",
       "    <tr>\n",
       "      <th>1</th>\n",
       "      <td>0</td>\n",
       "      <td>hi ve updated gulus check mirrors little typo ...</td>\n",
       "    </tr>\n",
       "    <tr>\n",
       "      <th>2</th>\n",
       "      <td>1</td>\n",
       "      <td>mega authenticv g r discount pricec l s discou...</td>\n",
       "    </tr>\n",
       "    <tr>\n",
       "      <th>3</th>\n",
       "      <td>1</td>\n",
       "      <td>hey billy fun going night talking said felt in...</td>\n",
       "    </tr>\n",
       "    <tr>\n",
       "      <th>4</th>\n",
       "      <td>1</td>\n",
       "      <td>system home capabilities linked far know respe...</td>\n",
       "    </tr>\n",
       "  </tbody>\n",
       "</table>\n",
       "</div>"
      ]
     },
     "execution_count": 25,
     "metadata": {},
     "output_type": "execute_result"
    }
   ],
   "execution_count": 25
  },
  {
   "metadata": {
    "ExecuteTime": {
     "end_time": "2025-03-09T08:14:21.571383Z",
     "start_time": "2025-03-09T08:14:21.567379Z"
    }
   },
   "cell_type": "code",
   "source": [
    "from sklearn.feature_extraction.text import TfidfVectorizer\n",
    "from sklearn.ensemble import RandomForestClassifier\n",
    "from sklearn.model_selection import (train_test_split, GridSearchCV)\n",
    "from sklearn.pipeline import Pipeline\n",
    "\n",
    "from sklearn.metrics import (\n",
    "    ConfusionMatrixDisplay, confusion_matrix,\n",
    "    classification_report\n",
    ")\n",
    "\n",
    "import matplotlib.pyplot as plt"
   ],
   "id": "8955c1a819855d9c",
   "outputs": [],
   "execution_count": 49
  },
  {
   "metadata": {
    "ExecuteTime": {
     "end_time": "2025-03-09T05:55:23.409828Z",
     "start_time": "2025-03-09T05:55:23.406370Z"
    }
   },
   "cell_type": "code",
   "source": [
    "def search_best_estimator(pipeline, param_grid, x, y):\n",
    "    grid_search = GridSearchCV(pipeline, param_grid, cv=5, scoring='f1_weighted', n_jobs=-1)\n",
    "    _ = grid_search.fit(x, y)\n",
    "    return grid_search.best_params_"
   ],
   "id": "c072c2dda5591626",
   "outputs": [],
   "execution_count": 33
  },
  {
   "metadata": {
    "ExecuteTime": {
     "end_time": "2025-03-09T05:55:24.583281Z",
     "start_time": "2025-03-09T05:55:24.579166Z"
    }
   },
   "cell_type": "code",
   "source": [
    "def plot_confusion_matrix(y_test, y_preds, model):\n",
    "    fig, ax = plt.subplots(figsize=(16,10))\n",
    "    cm = confusion_matrix(y_test, y_preds)\n",
    "    cmp = ConfusionMatrixDisplay(cm, display_labels = model.classes_)\n",
    "    cmp.plot(ax=ax)\n",
    "    plt.show()"
   ],
   "id": "dd09e94bd3161d03",
   "outputs": [],
   "execution_count": 34
  },
  {
   "metadata": {
    "ExecuteTime": {
     "end_time": "2025-03-09T07:28:58.996783Z",
     "start_time": "2025-03-09T05:55:35.184778Z"
    }
   },
   "cell_type": "code",
   "source": [
    "X, y = data_email['text'], data_email['label']\n",
    "\n",
    "pipeline = Pipeline([\n",
    "    ('tfidf', TfidfVectorizer()),\n",
    "    ('clf', RandomForestClassifier())\n",
    "])\n",
    "\n",
    "param_grid = {\n",
    "    'tfidf__min_df': [i for i in range(25,35,5)],\n",
    "    'tfidf__max_df': [0.7, 0.8, 0.9],\n",
    "    'tfidf__ngram_range': [(1, 1), (1, 2)],\n",
    "    \"clf__n_estimators\": [i for i in range(150,250,50)],\n",
    "    \"clf__max_depth\": [i for i in range(5,35,5)],\n",
    "    \"clf__min_samples_split\":[i for i in range(6,10,2)],\n",
    "    \"clf__min_samples_leaf\": [2]\n",
    "}\n",
    "\n",
    "estimator = search_best_estimator(pipeline, param_grid, X, y)"
   ],
   "id": "9cd694bbf5e2e985",
   "outputs": [],
   "execution_count": 35
  },
  {
   "metadata": {
    "ExecuteTime": {
     "end_time": "2025-03-09T07:54:00.933935Z",
     "start_time": "2025-03-09T07:54:00.930502Z"
    }
   },
   "cell_type": "code",
   "source": "print(estimator)",
   "id": "35057196e258e4b6",
   "outputs": [
    {
     "name": "stdout",
     "output_type": "stream",
     "text": [
      "{'clf__max_depth': 30, 'clf__min_samples_leaf': 2, 'clf__min_samples_split': 6, 'clf__n_estimators': 200, 'tfidf__max_df': 0.9, 'tfidf__min_df': 30, 'tfidf__ngram_range': (1, 1)}\n"
     ]
    }
   ],
   "execution_count": 40
  },
  {
   "metadata": {
    "ExecuteTime": {
     "end_time": "2025-03-09T07:28:59.040468Z",
     "start_time": "2025-03-09T07:28:59.020338Z"
    }
   },
   "cell_type": "code",
   "source": "X_train, X_test, y_train, y_test = train_test_split(X, y, test_size=0.3, stratify=y)",
   "id": "b169ee1ae403f394",
   "outputs": [],
   "execution_count": 36
  },
  {
   "metadata": {
    "ExecuteTime": {
     "end_time": "2025-03-09T07:58:22.215513Z",
     "start_time": "2025-03-09T07:58:15.904584Z"
    }
   },
   "cell_type": "code",
   "source": [
    "pipeline_model = Pipeline([\n",
    "    ('tfidf', TfidfVectorizer(max_df = 0.9, min_df=30, ngram_range=(1, 1))),\n",
    "    ('clf', RandomForestClassifier(max_depth=30, n_estimators=200, min_samples_split=6, min_samples_leaf=2, n_jobs=-1))\n",
    "])\n",
    "\n",
    "model = pipeline_model.fit(X_train, y_train)"
   ],
   "id": "2f4555a8c056227",
   "outputs": [],
   "execution_count": 41
  },
  {
   "metadata": {
    "ExecuteTime": {
     "end_time": "2025-03-09T07:58:23.887252Z",
     "start_time": "2025-03-09T07:58:22.253011Z"
    }
   },
   "cell_type": "code",
   "source": "y_pred = model.predict(X_test)",
   "id": "c106d0d3d7956a5",
   "outputs": [],
   "execution_count": 42
  },
  {
   "metadata": {
    "ExecuteTime": {
     "end_time": "2025-03-09T17:37:39.906517Z",
     "start_time": "2025-03-09T17:37:39.880413Z"
    }
   },
   "cell_type": "code",
   "source": "print(\"Classification Report:\\n\", classification_report(y_test, y_pred))",
   "id": "6677286e4055505d",
   "outputs": [
    {
     "name": "stdout",
     "output_type": "stream",
     "text": [
      "Classification Report:\n",
      "               precision    recall  f1-score   support\n",
      "\n",
      "           0       1.00      0.96      0.98      7124\n",
      "           1       0.97      1.00      0.98      8963\n",
      "\n",
      "    accuracy                           0.98     16087\n",
      "   macro avg       0.98      0.98      0.98     16087\n",
      "weighted avg       0.98      0.98      0.98     16087\n",
      "\n"
     ]
    }
   ],
   "execution_count": 50
  },
  {
   "metadata": {
    "ExecuteTime": {
     "end_time": "2025-03-09T08:00:41.860293Z",
     "start_time": "2025-03-09T08:00:41.634996Z"
    }
   },
   "cell_type": "code",
   "source": "plot_confusion_matrix(y_test, y_pred, model)",
   "id": "90edc2eb391a4c73",
   "outputs": [
    {
     "data": {
      "text/plain": [
       "<Figure size 1600x1000 with 2 Axes>"
      ],
      "image/png": "[encoded data removed]"
     },
     "metadata": {},
     "output_type": "display_data"
    }
   ],
   "execution_count": 44
  },
  {
   "metadata": {
    "ExecuteTime": {
     "end_time": "2025-03-09T08:03:39.514592Z",
     "start_time": "2025-03-09T08:03:34.551798Z"
    }
   },
   "cell_type": "code",
   "source": [
    "train_score = model.score(X_train, y_train)\n",
    "test_score = model.score(X_test, y_test)\n",
    "\n",
    "print(f\"Train Score: {train_score:.2f}\")\n",
    "print(f\"Test Score: {test_score:.2f}\")"
   ],
   "id": "e55c4b620bcad71",
   "outputs": [
    {
     "name": "stdout",
     "output_type": "stream",
     "text": [
      "Train Score: 0.98\n",
      "Test Score: 0.98\n"
     ]
    }
   ],
   "execution_count": 45
  },
  {
   "metadata": {
    "ExecuteTime": {
     "end_time": "2025-03-09T08:08:25.818257Z",
     "start_time": "2025-03-09T08:06:03.373332Z"
    }
   },
   "cell_type": "code",
   "source": [
    "from sklearn.model_selection import learning_curve\n",
    "\n",
    "train_sizes, train_scores, test_scores = learning_curve(\n",
    "    pipeline_model, X_train, y_train, cv=5, scoring='accuracy'\n",
    ")\n",
    "\n",
    "train_mean = train_scores.mean(axis=1)\n",
    "test_mean = test_scores.mean(axis=1)\n",
    "\n",
    "plt.plot(train_sizes, train_mean, label=\"Train score\")\n",
    "plt.plot(train_sizes, test_mean, label=\"Test score\")\n",
    "plt.xlabel(\"Training Size\")\n",
    "plt.ylabel(\"Accuracy\")\n",
    "plt.legend()\n",
    "plt.show()"
   ],
   "id": "8f9479c902a6c9b5",
   "outputs": [
    {
     "data": {
      "text/plain": [
       "<Figure size 640x480 with 1 Axes>"
      ],
      "image/png": "[encoded data removed]"
     },
     "metadata": {},
     "output_type": "display_data"
    }
   ],
   "execution_count": 47
  },
  {
   "metadata": {
    "ExecuteTime": {
     "end_time": "2025-03-09T08:13:51.974452Z",
     "start_time": "2025-03-09T08:13:16.416248Z"
    }
   },
   "cell_type": "code",
   "source": [
    "from sklearn.model_selection import cross_val_score\n",
    "\n",
    "cv_scores = cross_val_score(model, X_train, y_train, cv=5, scoring='accuracy')\n",
    "print(f\"Mean CV Score: {cv_scores.mean():.2f}\")\n"
   ],
   "id": "5802f1381c19512d",
   "outputs": [
    {
     "name": "stdout",
     "output_type": "stream",
     "text": [
      "Mean CV Score: 0.98\n"
     ]
    }
   ],
   "execution_count": 48
  },
  {
   "metadata": {
    "ExecuteTime": {
     "end_time": "2025-03-09T17:38:55.783495Z",
     "start_time": "2025-03-09T17:38:55.630522Z"
    }
   },
   "cell_type": "code",
   "source": [
    "import joblib\n",
    "\n",
    "joblib.dump(model, 'spam_classifier_model.joblib')"
   ],
   "id": "380ced0915a82370",
   "outputs": [
    {
     "data": {
      "text/plain": [
       "['spam_classifier_model.joblib']"
      ]
     },
     "execution_count": 51,
     "metadata": {},
     "output_type": "execute_result"
    }
   ],
   "execution_count": 51
  }
 ],
 "metadata": {
  "kernelspec": {
   "display_name": "Python 3",
   "language": "python",
   "name": "python3"
  },
  "language_info": {
   "codemirror_mode": {
    "name": "ipython",
    "version": 2
   },
   "file_extension": ".py",
   "mimetype": "text/x-python",
   "name": "python",
   "nbconvert_exporter": "python",
   "pygments_lexer": "ipython2",
   "version": "2.7.6"
  }
 },
 "nbformat": 4,
 "nbformat_minor": 5
}
